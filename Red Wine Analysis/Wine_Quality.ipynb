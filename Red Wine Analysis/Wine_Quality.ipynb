{
 "cells": [
  {
   "cell_type": "code",
   "execution_count": 1,
   "metadata": {},
   "outputs": [
    {
     "name": "stderr",
     "output_type": "stream",
     "text": [
      "C:\\Users\\dhruv\\anaconda3\\lib\\importlib\\_bootstrap.py:219: RuntimeWarning: numpy.ufunc size changed, may indicate binary incompatibility. Expected 192 from C header, got 216 from PyObject\n",
      "  return f(*args, **kwds)\n",
      "C:\\Users\\dhruv\\anaconda3\\lib\\importlib\\_bootstrap.py:219: RuntimeWarning: numpy.ufunc size changed, may indicate binary incompatibility. Expected 192 from C header, got 216 from PyObject\n",
      "  return f(*args, **kwds)\n",
      "C:\\Users\\dhruv\\anaconda3\\lib\\importlib\\_bootstrap.py:219: RuntimeWarning: numpy.ufunc size changed, may indicate binary incompatibility. Expected 192 from C header, got 216 from PyObject\n",
      "  return f(*args, **kwds)\n",
      "C:\\Users\\dhruv\\anaconda3\\lib\\importlib\\_bootstrap.py:219: RuntimeWarning: numpy.ufunc size changed, may indicate binary incompatibility. Expected 192 from C header, got 216 from PyObject\n",
      "  return f(*args, **kwds)\n",
      "C:\\Users\\dhruv\\anaconda3\\lib\\importlib\\_bootstrap.py:219: RuntimeWarning: numpy.ufunc size changed, may indicate binary incompatibility. Expected 192 from C header, got 216 from PyObject\n",
      "  return f(*args, **kwds)\n"
     ]
    }
   ],
   "source": [
    "import pandas as pd\n",
    "import numpy as np\n",
    "import seaborn as sns\n",
    "import matplotlib.pyplot as plt\n",
    "%matplotlib inline"
   ]
  },
  {
   "cell_type": "code",
   "execution_count": 2,
   "metadata": {},
   "outputs": [],
   "source": [
    "df = pd.read_csv(r'C:\\Users\\dhruv\\Downloads\\datasets_4458_8204_winequality-red.csv')"
   ]
  },
  {
   "cell_type": "code",
   "execution_count": 3,
   "metadata": {},
   "outputs": [
    {
     "data": {
      "text/html": [
       "<div>\n",
       "<style scoped>\n",
       "    .dataframe tbody tr th:only-of-type {\n",
       "        vertical-align: middle;\n",
       "    }\n",
       "\n",
       "    .dataframe tbody tr th {\n",
       "        vertical-align: top;\n",
       "    }\n",
       "\n",
       "    .dataframe thead th {\n",
       "        text-align: right;\n",
       "    }\n",
       "</style>\n",
       "<table border=\"1\" class=\"dataframe\">\n",
       "  <thead>\n",
       "    <tr style=\"text-align: right;\">\n",
       "      <th></th>\n",
       "      <th>fixed acidity</th>\n",
       "      <th>volatile acidity</th>\n",
       "      <th>citric acid</th>\n",
       "      <th>residual sugar</th>\n",
       "      <th>chlorides</th>\n",
       "      <th>free sulfur dioxide</th>\n",
       "      <th>total sulfur dioxide</th>\n",
       "      <th>density</th>\n",
       "      <th>pH</th>\n",
       "      <th>sulphates</th>\n",
       "      <th>alcohol</th>\n",
       "      <th>quality</th>\n",
       "    </tr>\n",
       "  </thead>\n",
       "  <tbody>\n",
       "    <tr>\n",
       "      <th>0</th>\n",
       "      <td>7.4</td>\n",
       "      <td>0.70</td>\n",
       "      <td>0.00</td>\n",
       "      <td>1.9</td>\n",
       "      <td>0.076</td>\n",
       "      <td>11.0</td>\n",
       "      <td>34.0</td>\n",
       "      <td>0.9978</td>\n",
       "      <td>3.51</td>\n",
       "      <td>0.56</td>\n",
       "      <td>9.4</td>\n",
       "      <td>5</td>\n",
       "    </tr>\n",
       "    <tr>\n",
       "      <th>1</th>\n",
       "      <td>7.8</td>\n",
       "      <td>0.88</td>\n",
       "      <td>0.00</td>\n",
       "      <td>2.6</td>\n",
       "      <td>0.098</td>\n",
       "      <td>25.0</td>\n",
       "      <td>67.0</td>\n",
       "      <td>0.9968</td>\n",
       "      <td>3.20</td>\n",
       "      <td>0.68</td>\n",
       "      <td>9.8</td>\n",
       "      <td>5</td>\n",
       "    </tr>\n",
       "    <tr>\n",
       "      <th>2</th>\n",
       "      <td>7.8</td>\n",
       "      <td>0.76</td>\n",
       "      <td>0.04</td>\n",
       "      <td>2.3</td>\n",
       "      <td>0.092</td>\n",
       "      <td>15.0</td>\n",
       "      <td>54.0</td>\n",
       "      <td>0.9970</td>\n",
       "      <td>3.26</td>\n",
       "      <td>0.65</td>\n",
       "      <td>9.8</td>\n",
       "      <td>5</td>\n",
       "    </tr>\n",
       "    <tr>\n",
       "      <th>3</th>\n",
       "      <td>11.2</td>\n",
       "      <td>0.28</td>\n",
       "      <td>0.56</td>\n",
       "      <td>1.9</td>\n",
       "      <td>0.075</td>\n",
       "      <td>17.0</td>\n",
       "      <td>60.0</td>\n",
       "      <td>0.9980</td>\n",
       "      <td>3.16</td>\n",
       "      <td>0.58</td>\n",
       "      <td>9.8</td>\n",
       "      <td>6</td>\n",
       "    </tr>\n",
       "    <tr>\n",
       "      <th>4</th>\n",
       "      <td>7.4</td>\n",
       "      <td>0.70</td>\n",
       "      <td>0.00</td>\n",
       "      <td>1.9</td>\n",
       "      <td>0.076</td>\n",
       "      <td>11.0</td>\n",
       "      <td>34.0</td>\n",
       "      <td>0.9978</td>\n",
       "      <td>3.51</td>\n",
       "      <td>0.56</td>\n",
       "      <td>9.4</td>\n",
       "      <td>5</td>\n",
       "    </tr>\n",
       "  </tbody>\n",
       "</table>\n",
       "</div>"
      ],
      "text/plain": [
       "   fixed acidity  volatile acidity  citric acid  residual sugar  chlorides  \\\n",
       "0            7.4              0.70         0.00             1.9      0.076   \n",
       "1            7.8              0.88         0.00             2.6      0.098   \n",
       "2            7.8              0.76         0.04             2.3      0.092   \n",
       "3           11.2              0.28         0.56             1.9      0.075   \n",
       "4            7.4              0.70         0.00             1.9      0.076   \n",
       "\n",
       "   free sulfur dioxide  total sulfur dioxide  density    pH  sulphates  \\\n",
       "0                 11.0                  34.0   0.9978  3.51       0.56   \n",
       "1                 25.0                  67.0   0.9968  3.20       0.68   \n",
       "2                 15.0                  54.0   0.9970  3.26       0.65   \n",
       "3                 17.0                  60.0   0.9980  3.16       0.58   \n",
       "4                 11.0                  34.0   0.9978  3.51       0.56   \n",
       "\n",
       "   alcohol  quality  \n",
       "0      9.4        5  \n",
       "1      9.8        5  \n",
       "2      9.8        5  \n",
       "3      9.8        6  \n",
       "4      9.4        5  "
      ]
     },
     "execution_count": 3,
     "metadata": {},
     "output_type": "execute_result"
    }
   ],
   "source": [
    "df.head()"
   ]
  },
  {
   "cell_type": "code",
   "execution_count": 5,
   "metadata": {},
   "outputs": [
    {
     "data": {
      "text/plain": [
       "fixed acidity           0\n",
       "volatile acidity        0\n",
       "citric acid             0\n",
       "residual sugar          0\n",
       "chlorides               0\n",
       "free sulfur dioxide     0\n",
       "total sulfur dioxide    0\n",
       "density                 0\n",
       "pH                      0\n",
       "sulphates               0\n",
       "alcohol                 0\n",
       "quality                 0\n",
       "dtype: int64"
      ]
     },
     "execution_count": 5,
     "metadata": {},
     "output_type": "execute_result"
    }
   ],
   "source": [
    "#Checking for null values in the dataset..\n",
    "\n",
    "df.isnull().sum()"
   ]
  },
  {
   "cell_type": "code",
   "execution_count": 6,
   "metadata": {},
   "outputs": [
    {
     "data": {
      "text/plain": [
       "array([5, 6, 7, 4, 8, 3], dtype=int64)"
      ]
     },
     "execution_count": 6,
     "metadata": {},
     "output_type": "execute_result"
    }
   ],
   "source": [
    "df['quality'].unique()"
   ]
  },
  {
   "cell_type": "markdown",
   "metadata": {},
   "source": [
    "Lets do some data visulization...."
   ]
  },
  {
   "cell_type": "code",
   "execution_count": 9,
   "metadata": {},
   "outputs": [
    {
     "data": {
      "text/plain": [
       "<matplotlib.axes._subplots.AxesSubplot at 0x26a2deb2208>"
      ]
     },
     "execution_count": 9,
     "metadata": {},
     "output_type": "execute_result"
    },
    {
     "data": {
      "image/png": "[encoded data removed]",
      "text/plain": [
       "<Figure size 432x288 with 1 Axes>"
      ]
     },
     "metadata": {
      "needs_background": "light"
     },
     "output_type": "display_data"
    }
   ],
   "source": [
    "sns.barplot(y=df['fixed acidity'], x=df['quality'])"
   ]
  },
  {
   "cell_type": "code",
   "execution_count": 10,
   "metadata": {},
   "outputs": [
    {
     "data": {
      "text/plain": [
       "<matplotlib.axes._subplots.AxesSubplot at 0x26a2e7fb0c8>"
      ]
     },
     "execution_count": 10,
     "metadata": {},
     "output_type": "execute_result"
    },
    {
     "data": {
      "image/png": "[encoded data removed]",
      "text/plain": [
       "<Figure size 432x288 with 1 Axes>"
      ]
     },
     "metadata": {
      "needs_background": "light"
     },
     "output_type": "display_data"
    }
   ],
   "source": [
    "sns.barplot(y=df['volatile acidity'], x=df['quality'])"
   ]
  },
  {
   "cell_type": "code",
   "execution_count": 11,
   "metadata": {},
   "outputs": [
    {
     "data": {
      "text/plain": [
       "<matplotlib.axes._subplots.AxesSubplot at 0x26a2e81f3c8>"
      ]
     },
     "execution_count": 11,
     "metadata": {},
     "output_type": "execute_result"
    },
    {
     "data": {
      "image/png": "[encoded data removed]",
      "text/plain": [
       "<Figure size 432x288 with 1 Axes>"
      ]
     },
     "metadata": {
      "needs_background": "light"
     },
     "output_type": "display_data"
    }
   ],
   "source": [
    "sns.barplot(y=df['pH'], x=df['quality'])"
   ]
  },
  {
   "cell_type": "code",
   "execution_count": 12,
   "metadata": {},
   "outputs": [],
   "source": [
    "#Lets convert quality of wine into 1 and 0, where 1 indicate good quality and 0 indicate bad quality!!\n",
    "\n",
    "def wine_quality(data):\n",
    "    if data<6.5:\n",
    "        return 0\n",
    "    else:\n",
    "        return 1\n",
    "    \n",
    "    "
   ]
  },
  {
   "cell_type": "code",
   "execution_count": 13,
   "metadata": {},
   "outputs": [],
   "source": [
    "df['quality'] = df['quality'].apply(wine_quality)"
   ]
  },
  {
   "cell_type": "code",
   "execution_count": 15,
   "metadata": {},
   "outputs": [
    {
     "data": {
      "text/plain": [
       "array([0, 1], dtype=int64)"
      ]
     },
     "execution_count": 15,
     "metadata": {},
     "output_type": "execute_result"
    }
   ],
   "source": [
    "df['quality'].unique()"
   ]
  },
  {
   "cell_type": "code",
   "execution_count": 16,
   "metadata": {},
   "outputs": [],
   "source": [
    "#Lets divide data into X and Y\n",
    "\n",
    "X = df.drop(['quality'], axis=1)\n",
    "Y = df['quality']"
   ]
  },
  {
   "cell_type": "code",
   "execution_count": 20,
   "metadata": {},
   "outputs": [],
   "source": [
    "#Lets split our X and Y into train and test dataset!!\n",
    "\n",
    "from sklearn.model_selection import train_test_split\n",
    "X_train, X_test, Y_train, Y_test = train_test_split(X, Y, test_size=0.25)"
   ]
  },
  {
   "cell_type": "code",
   "execution_count": 21,
   "metadata": {},
   "outputs": [
    {
     "name": "stdout",
     "output_type": "stream",
     "text": [
      "(1199, 11)\n",
      "(400, 11)\n",
      "(1199,)\n",
      "(400,)\n"
     ]
    }
   ],
   "source": [
    "print(X_train.shape)\n",
    "print(X_test.shape)\n",
    "print(Y_train.shape)\n",
    "print(Y_test.shape)"
   ]
  },
  {
   "cell_type": "code",
   "execution_count": 22,
   "metadata": {},
   "outputs": [],
   "source": [
    "#Lets scale our data for better performance !!\n",
    "\n",
    "from sklearn.preprocessing import StandardScaler\n",
    "scaler = StandardScaler()"
   ]
  },
  {
   "cell_type": "code",
   "execution_count": 23,
   "metadata": {},
   "outputs": [],
   "source": [
    "X_train = scaler.fit_transform(X_train)"
   ]
  },
  {
   "cell_type": "code",
   "execution_count": 24,
   "metadata": {},
   "outputs": [],
   "source": [
    "X_test = scaler.fit_transform(X_test)"
   ]
  },
  {
   "cell_type": "markdown",
   "metadata": {},
   "source": [
    "Our data is ready now!!, lets start with models.."
   ]
  },
  {
   "cell_type": "code",
   "execution_count": 49,
   "metadata": {},
   "outputs": [],
   "source": [
    "#Random Forrest Classifier \n",
    "\n",
    "from sklearn.ensemble import RandomForestClassifier\n",
    "model_rfc = RandomForestClassifier(n_estimators=20)\n"
   ]
  },
  {
   "cell_type": "code",
   "execution_count": 50,
   "metadata": {},
   "outputs": [
    {
     "data": {
      "text/plain": [
       "SVC()"
      ]
     },
     "execution_count": 50,
     "metadata": {},
     "output_type": "execute_result"
    }
   ],
   "source": [
    "model_rfc.fit(X_train, Y_train)"
   ]
  },
  {
   "cell_type": "code",
   "execution_count": 51,
   "metadata": {},
   "outputs": [],
   "source": [
    "y_pred = model_rfc.predict(X_test)"
   ]
  },
  {
   "cell_type": "code",
   "execution_count": 44,
   "metadata": {},
   "outputs": [
    {
     "name": "stdout",
     "output_type": "stream",
     "text": [
      "0.8925\n"
     ]
    }
   ],
   "source": [
    "from sklearn.metrics import accuracy_score\n",
    "print(accuracy_score(y_pred, Y_test))"
   ]
  },
  {
   "cell_type": "code",
   "execution_count": 52,
   "metadata": {},
   "outputs": [],
   "source": [
    "#Stochastic Gradient Descent Classifier\n",
    "\n",
    "from sklearn.linear_model import SGDClassifier\n",
    "model_sgdc = SGDClassifier(penalty=None)"
   ]
  },
  {
   "cell_type": "code",
   "execution_count": 53,
   "metadata": {},
   "outputs": [
    {
     "name": "stdout",
     "output_type": "stream",
     "text": [
      "0.8725\n"
     ]
    }
   ],
   "source": [
    "model_sgdc.fit(X_train, Y_train)\n",
    "y_pred = model_sgdc.predict(X_test)\n",
    "print(accuracy_score(y_pred, Y_test))"
   ]
  },
  {
   "cell_type": "code",
   "execution_count": 54,
   "metadata": {},
   "outputs": [],
   "source": [
    "#Support Vector Classifier\n",
    "\n",
    "from sklearn.svm import SVC\n",
    "model_svc = SVC()"
   ]
  },
  {
   "cell_type": "code",
   "execution_count": 55,
   "metadata": {},
   "outputs": [
    {
     "name": "stdout",
     "output_type": "stream",
     "text": [
      "0.8725\n"
     ]
    }
   ],
   "source": [
    "model.fit(X_train, Y_train)\n",
    "y_pred = model.predict(X_test)\n",
    "print(accuracy_score(y_pred, Y_test))"
   ]
  },
  {
   "cell_type": "markdown",
   "metadata": {},
   "source": [
    "RandomForrestClassifier shows good accuracy compare to other two..."
   ]
  },
  {
   "cell_type": "markdown",
   "metadata": {},
   "source": [
    "Now lets try to improve our models accuracy using GridCV"
   ]
  },
  {
   "cell_type": "code",
   "execution_count": 57,
   "metadata": {},
   "outputs": [],
   "source": [
    "from sklearn.model_selection import GridSearchCV, cross_val_score"
   ]
  },
  {
   "cell_type": "code",
   "execution_count": 58,
   "metadata": {},
   "outputs": [],
   "source": [
    "param = {\n",
    "    'C': [0.1,0.8,0.9,1,1.1,1.2,1.3,1.4],\n",
    "    'kernel':['linear', 'rbf'],\n",
    "    'gamma' :[0.1,0.8,0.9,1,1.1,1.2,1.3,1.4]\n",
    "}\n",
    "grid_svc = GridSearchCV(model_svc, param_grid=param, scoring='accuracy', cv=10)"
   ]
  },
  {
   "cell_type": "code",
   "execution_count": 59,
   "metadata": {},
   "outputs": [
    {
     "data": {
      "text/plain": [
       "GridSearchCV(cv=10, estimator=SVC(),\n",
       "             param_grid={'C': [0.1, 0.8, 0.9, 1, 1.1, 1.2, 1.3, 1.4],\n",
       "                         'gamma': [0.1, 0.8, 0.9, 1, 1.1, 1.2, 1.3, 1.4],\n",
       "                         'kernel': ['linear', 'rbf']},\n",
       "             scoring='accuracy')"
      ]
     },
     "execution_count": 59,
     "metadata": {},
     "output_type": "execute_result"
    }
   ],
   "source": [
    "grid_svc.fit(X_train, Y_train)"
   ]
  },
  {
   "cell_type": "code",
   "execution_count": 60,
   "metadata": {},
   "outputs": [
    {
     "data": {
      "text/plain": [
       "{'C': 1.4, 'gamma': 1.3, 'kernel': 'rbf'}"
      ]
     },
     "execution_count": 60,
     "metadata": {},
     "output_type": "execute_result"
    }
   ],
   "source": [
    "grid_svc.best_params_"
   ]
  },
  {
   "cell_type": "code",
   "execution_count": 64,
   "metadata": {},
   "outputs": [
    {
     "name": "stdout",
     "output_type": "stream",
     "text": [
      "0.88\n"
     ]
    }
   ],
   "source": [
    "model_svc2 = SVC(C= 1.4, gamma= 1.3, kernel= 'rbf')\n",
    "model_svc2.fit(X_train, Y_train)\n",
    "y_pred = model_svc2.predict(X_test)\n",
    "print(accuracy_score(y_pred, Y_test))"
   ]
  },
  {
   "cell_type": "markdown",
   "metadata": {},
   "source": [
    "Accuracy increase by 1% for SVC "
   ]
  },
  {
   "cell_type": "code",
   "execution_count": 65,
   "metadata": {},
   "outputs": [
    {
     "data": {
      "text/plain": [
       "0.9016176470588235"
      ]
     },
     "execution_count": 65,
     "metadata": {},
     "output_type": "execute_result"
    }
   ],
   "source": [
    "#Now lets try to do some evaluation for random forest model using cross validation.\n",
    "\n",
    "rfc_eval = cross_val_score(estimator = model_rfc, X = X_train, y = Y_train, cv = 10)\n",
    "rfc_eval.mean()"
   ]
  },
  {
   "cell_type": "markdown",
   "metadata": {},
   "source": [
    "Similarly, there is a little rise in accuracy from RandomForrestClassifier i.e, 89% to 90%"
   ]
  },
  {
   "cell_type": "code",
   "execution_count": null,
   "metadata": {},
   "outputs": [],
   "source": []
  },
  {
   "cell_type": "markdown",
   "metadata": {},
   "source": [
    "Let's try NeuralNetwork, inorder to improve the accuracy..."
   ]
  },
  {
   "cell_type": "code",
   "execution_count": 66,
   "metadata": {},
   "outputs": [],
   "source": [
    "import tensorflow as tf\n",
    "from tensorflow import keras"
   ]
  },
  {
   "cell_type": "code",
   "execution_count": 75,
   "metadata": {},
   "outputs": [
    {
     "name": "stdout",
     "output_type": "stream",
     "text": [
      "Epoch 1/100\n",
      "1199/1199 [==============================] - 0s 125us/sample - loss: 0.4403 - acc: 0.8532\n",
      "Epoch 2/100\n",
      "1199/1199 [==============================] - 0s 40us/sample - loss: 0.3589 - acc: 0.8657\n",
      "Epoch 3/100\n",
      "1199/1199 [==============================] - 0s 37us/sample - loss: 0.3261 - acc: 0.8657\n",
      "Epoch 4/100\n",
      "1199/1199 [==============================] - 0s 40us/sample - loss: 0.3091 - acc: 0.8657\n",
      "Epoch 5/100\n",
      "1199/1199 [==============================] - 0s 39us/sample - loss: 0.2982 - acc: 0.8666\n",
      "Epoch 6/100\n",
      "1199/1199 [==============================] - 0s 40us/sample - loss: 0.2898 - acc: 0.8682\n",
      "Epoch 7/100\n",
      "1199/1199 [==============================] - 0s 39us/sample - loss: 0.2830 - acc: 0.8699\n",
      "Epoch 8/100\n",
      "1199/1199 [==============================] - 0s 38us/sample - loss: 0.2763 - acc: 0.8841\n",
      "Epoch 9/100\n",
      "1199/1199 [==============================] - 0s 42us/sample - loss: 0.2712 - acc: 0.8957\n",
      "Epoch 10/100\n",
      "1199/1199 [==============================] - 0s 40us/sample - loss: 0.2668 - acc: 0.8966\n",
      "Epoch 11/100\n",
      "1199/1199 [==============================] - 0s 39us/sample - loss: 0.2626 - acc: 0.8966\n",
      "Epoch 12/100\n",
      "1199/1199 [==============================] - 0s 40us/sample - loss: 0.2587 - acc: 0.8974\n",
      "Epoch 13/100\n",
      "1199/1199 [==============================] - 0s 42us/sample - loss: 0.2549 - acc: 0.8974\n",
      "Epoch 14/100\n",
      "1199/1199 [==============================] - 0s 39us/sample - loss: 0.2516 - acc: 0.8966\n",
      "Epoch 15/100\n",
      "1199/1199 [==============================] - 0s 40us/sample - loss: 0.2489 - acc: 0.9016\n",
      "Epoch 16/100\n",
      "1199/1199 [==============================] - 0s 77us/sample - loss: 0.2458 - acc: 0.9024\n",
      "Epoch 17/100\n",
      "1199/1199 [==============================] - 0s 41us/sample - loss: 0.2439 - acc: 0.9008\n",
      "Epoch 18/100\n",
      "1199/1199 [==============================] - 0s 44us/sample - loss: 0.2412 - acc: 0.8991\n",
      "Epoch 19/100\n",
      "1199/1199 [==============================] - 0s 42us/sample - loss: 0.2392 - acc: 0.9024\n",
      "Epoch 20/100\n",
      "1199/1199 [==============================] - 0s 37us/sample - loss: 0.2373 - acc: 0.9024\n",
      "Epoch 21/100\n",
      "1199/1199 [==============================] - 0s 39us/sample - loss: 0.2345 - acc: 0.9033\n",
      "Epoch 22/100\n",
      "1199/1199 [==============================] - 0s 38us/sample - loss: 0.2326 - acc: 0.9033\n",
      "Epoch 23/100\n",
      "1199/1199 [==============================] - 0s 37us/sample - loss: 0.2309 - acc: 0.9049\n",
      "Epoch 24/100\n",
      "1199/1199 [==============================] - 0s 44us/sample - loss: 0.2287 - acc: 0.9041\n",
      "Epoch 25/100\n",
      "1199/1199 [==============================] - 0s 40us/sample - loss: 0.2272 - acc: 0.9049\n",
      "Epoch 26/100\n",
      "1199/1199 [==============================] - 0s 38us/sample - loss: 0.2265 - acc: 0.9091\n",
      "Epoch 27/100\n",
      "1199/1199 [==============================] - 0s 38us/sample - loss: 0.2239 - acc: 0.9066\n",
      "Epoch 28/100\n",
      "1199/1199 [==============================] - 0s 37us/sample - loss: 0.2224 - acc: 0.9108\n",
      "Epoch 29/100\n",
      "1199/1199 [==============================] - 0s 44us/sample - loss: 0.2210 - acc: 0.9058\n",
      "Epoch 30/100\n",
      "1199/1199 [==============================] - 0s 42us/sample - loss: 0.2197 - acc: 0.9099\n",
      "Epoch 31/100\n",
      "1199/1199 [==============================] - 0s 38us/sample - loss: 0.2180 - acc: 0.9124\n",
      "Epoch 32/100\n",
      "1199/1199 [==============================] - 0s 38us/sample - loss: 0.2166 - acc: 0.9124\n",
      "Epoch 33/100\n",
      "1199/1199 [==============================] - 0s 37us/sample - loss: 0.2150 - acc: 0.9141\n",
      "Epoch 34/100\n",
      "1199/1199 [==============================] - 0s 38us/sample - loss: 0.2147 - acc: 0.9108\n",
      "Epoch 35/100\n",
      "1199/1199 [==============================] - 0s 43us/sample - loss: 0.2130 - acc: 0.9158\n",
      "Epoch 36/100\n",
      "1199/1199 [==============================] - 0s 43us/sample - loss: 0.2117 - acc: 0.9141\n",
      "Epoch 37/100\n",
      "1199/1199 [==============================] - 0s 39us/sample - loss: 0.2101 - acc: 0.9158\n",
      "Epoch 38/100\n",
      "1199/1199 [==============================] - 0s 39us/sample - loss: 0.2091 - acc: 0.9158\n",
      "Epoch 39/100\n",
      "1199/1199 [==============================] - 0s 40us/sample - loss: 0.2079 - acc: 0.9133\n",
      "Epoch 40/100\n",
      "1199/1199 [==============================] - 0s 39us/sample - loss: 0.2064 - acc: 0.9166\n",
      "Epoch 41/100\n",
      "1199/1199 [==============================] - 0s 39us/sample - loss: 0.2060 - acc: 0.9149\n",
      "Epoch 42/100\n",
      "1199/1199 [==============================] - 0s 39us/sample - loss: 0.2042 - acc: 0.9166\n",
      "Epoch 43/100\n",
      "1199/1199 [==============================] - 0s 40us/sample - loss: 0.2026 - acc: 0.9183\n",
      "Epoch 44/100\n",
      "1199/1199 [==============================] - 0s 40us/sample - loss: 0.2014 - acc: 0.9216\n",
      "Epoch 45/100\n",
      "1199/1199 [==============================] - 0s 39us/sample - loss: 0.2014 - acc: 0.9208\n",
      "Epoch 46/100\n",
      "1199/1199 [==============================] - 0s 38us/sample - loss: 0.1998 - acc: 0.9166\n",
      "Epoch 47/100\n",
      "1199/1199 [==============================] - 0s 41us/sample - loss: 0.1984 - acc: 0.9199\n",
      "Epoch 48/100\n",
      "1199/1199 [==============================] - 0s 40us/sample - loss: 0.1973 - acc: 0.9208\n",
      "Epoch 49/100\n",
      "1199/1199 [==============================] - 0s 37us/sample - loss: 0.1956 - acc: 0.9183\n",
      "Epoch 50/100\n",
      "1199/1199 [==============================] - 0s 38us/sample - loss: 0.1951 - acc: 0.9166\n",
      "Epoch 51/100\n",
      "1199/1199 [==============================] - 0s 37us/sample - loss: 0.1943 - acc: 0.9208\n",
      "Epoch 52/100\n",
      "1199/1199 [==============================] - 0s 42us/sample - loss: 0.1928 - acc: 0.9199\n",
      "Epoch 53/100\n",
      "1199/1199 [==============================] - 0s 42us/sample - loss: 0.1912 - acc: 0.9208\n",
      "Epoch 54/100\n",
      "1199/1199 [==============================] - 0s 39us/sample - loss: 0.1903 - acc: 0.9224\n",
      "Epoch 55/100\n",
      "1199/1199 [==============================] - 0s 35us/sample - loss: 0.1896 - acc: 0.9199\n",
      "Epoch 56/100\n",
      "1199/1199 [==============================] - 0s 38us/sample - loss: 0.1880 - acc: 0.9233\n",
      "Epoch 57/100\n",
      "1199/1199 [==============================] - 0s 38us/sample - loss: 0.1877 - acc: 0.9233\n",
      "Epoch 58/100\n",
      "1199/1199 [==============================] - 0s 38us/sample - loss: 0.1861 - acc: 0.9224\n",
      "Epoch 59/100\n",
      "1199/1199 [==============================] - 0s 39us/sample - loss: 0.1848 - acc: 0.9241\n",
      "Epoch 60/100\n",
      "1199/1199 [==============================] - 0s 40us/sample - loss: 0.1839 - acc: 0.9274\n",
      "Epoch 61/100\n",
      "1199/1199 [==============================] - 0s 42us/sample - loss: 0.1838 - acc: 0.9241\n",
      "Epoch 62/100\n",
      "1199/1199 [==============================] - 0s 38us/sample - loss: 0.1818 - acc: 0.9274\n",
      "Epoch 63/100\n",
      "1199/1199 [==============================] - 0s 38us/sample - loss: 0.1809 - acc: 0.9266\n",
      "Epoch 64/100\n",
      "1199/1199 [==============================] - 0s 40us/sample - loss: 0.1802 - acc: 0.9291\n",
      "Epoch 65/100\n",
      "1199/1199 [==============================] - 0s 41us/sample - loss: 0.1787 - acc: 0.9258\n",
      "Epoch 66/100\n",
      "1199/1199 [==============================] - 0s 38us/sample - loss: 0.1799 - acc: 0.9258\n",
      "Epoch 67/100\n",
      "1199/1199 [==============================] - 0s 37us/sample - loss: 0.1797 - acc: 0.9283\n",
      "Epoch 68/100\n",
      "1199/1199 [==============================] - 0s 35us/sample - loss: 0.1762 - acc: 0.9291\n",
      "Epoch 69/100\n",
      "1199/1199 [==============================] - 0s 39us/sample - loss: 0.1747 - acc: 0.9316\n",
      "Epoch 70/100\n",
      "1199/1199 [==============================] - 0s 37us/sample - loss: 0.1732 - acc: 0.9333\n",
      "Epoch 71/100\n",
      "1199/1199 [==============================] - 0s 38us/sample - loss: 0.1732 - acc: 0.9324\n",
      "Epoch 72/100\n",
      "1199/1199 [==============================] - 0s 39us/sample - loss: 0.1715 - acc: 0.9258\n",
      "Epoch 73/100\n",
      "1199/1199 [==============================] - 0s 37us/sample - loss: 0.1717 - acc: 0.9291\n",
      "Epoch 74/100\n",
      "1199/1199 [==============================] - 0s 42us/sample - loss: 0.1709 - acc: 0.9283\n",
      "Epoch 75/100\n",
      "1199/1199 [==============================] - 0s 39us/sample - loss: 0.1689 - acc: 0.9299\n",
      "Epoch 76/100\n",
      "1199/1199 [==============================] - 0s 38us/sample - loss: 0.1677 - acc: 0.9366\n",
      "Epoch 77/100\n",
      "1199/1199 [==============================] - 0s 38us/sample - loss: 0.1677 - acc: 0.9291\n",
      "Epoch 78/100\n",
      "1199/1199 [==============================] - 0s 39us/sample - loss: 0.1662 - acc: 0.9324\n",
      "Epoch 79/100\n",
      "1199/1199 [==============================] - 0s 35us/sample - loss: 0.1652 - acc: 0.9341\n",
      "Epoch 80/100\n",
      "1199/1199 [==============================] - 0s 39us/sample - loss: 0.1650 - acc: 0.9349\n",
      "Epoch 81/100\n"
     ]
    },
    {
     "name": "stdout",
     "output_type": "stream",
     "text": [
      "1199/1199 [==============================] - 0s 38us/sample - loss: 0.1635 - acc: 0.9324\n",
      "Epoch 82/100\n",
      "1199/1199 [==============================] - 0s 38us/sample - loss: 0.1642 - acc: 0.9308\n",
      "Epoch 83/100\n",
      "1199/1199 [==============================] - 0s 37us/sample - loss: 0.1612 - acc: 0.9358\n",
      "Epoch 84/100\n",
      "1199/1199 [==============================] - 0s 33us/sample - loss: 0.1608 - acc: 0.9358\n",
      "Epoch 85/100\n",
      "1199/1199 [==============================] - 0s 38us/sample - loss: 0.1605 - acc: 0.9399\n",
      "Epoch 86/100\n",
      "1199/1199 [==============================] - 0s 36us/sample - loss: 0.1590 - acc: 0.9324\n",
      "Epoch 87/100\n",
      "1199/1199 [==============================] - 0s 37us/sample - loss: 0.1581 - acc: 0.9366\n",
      "Epoch 88/100\n",
      "1199/1199 [==============================] - 0s 35us/sample - loss: 0.1573 - acc: 0.9366\n",
      "Epoch 89/100\n",
      "1199/1199 [==============================] - 0s 37us/sample - loss: 0.1567 - acc: 0.9349\n",
      "Epoch 90/100\n",
      "1199/1199 [==============================] - 0s 38us/sample - loss: 0.1564 - acc: 0.9366\n",
      "Epoch 91/100\n",
      "1199/1199 [==============================] - 0s 37us/sample - loss: 0.1548 - acc: 0.9374\n",
      "Epoch 92/100\n",
      "1199/1199 [==============================] - 0s 34us/sample - loss: 0.1538 - acc: 0.9391\n",
      "Epoch 93/100\n",
      "1199/1199 [==============================] - 0s 37us/sample - loss: 0.1530 - acc: 0.9399\n",
      "Epoch 94/100\n",
      "1199/1199 [==============================] - 0s 37us/sample - loss: 0.1527 - acc: 0.9416\n",
      "Epoch 95/100\n",
      "1199/1199 [==============================] - 0s 37us/sample - loss: 0.1515 - acc: 0.9433\n",
      "Epoch 96/100\n",
      "1199/1199 [==============================] - 0s 34us/sample - loss: 0.1506 - acc: 0.9391\n",
      "Epoch 97/100\n",
      "1199/1199 [==============================] - 0s 37us/sample - loss: 0.1496 - acc: 0.9458\n",
      "Epoch 98/100\n",
      "1199/1199 [==============================] - 0s 36us/sample - loss: 0.1496 - acc: 0.9433\n",
      "Epoch 99/100\n",
      "1199/1199 [==============================] - 0s 37us/sample - loss: 0.1485 - acc: 0.9483\n",
      "Epoch 100/100\n",
      "1199/1199 [==============================] - 0s 34us/sample - loss: 0.1474 - acc: 0.9450\n"
     ]
    },
    {
     "data": {
      "text/plain": [
       "<tensorflow.python.keras.callbacks.History at 0x26a3ff69308>"
      ]
     },
     "execution_count": 75,
     "metadata": {},
     "output_type": "execute_result"
    }
   ],
   "source": [
    "\n",
    "model_NN = keras.Sequential([\n",
    "    keras.layers.Dense(20, input_shape=(11,), activation='relu'),\n",
    "    keras.layers.Dense(15,activation='relu'),\n",
    "    keras.layers.Dense(1, activation='sigmoid')\n",
    "\n",
    "])\n",
    "\n",
    "model_NN.compile(\n",
    "    optimizer= 'adam',\n",
    "    loss= 'binary_crossentropy',\n",
    "    metrics=['accuracy']\n",
    ")\n",
    "\n",
    "model_NN.fit(X_train, Y_train, epochs=100)"
   ]
  },
  {
   "cell_type": "code",
   "execution_count": 76,
   "metadata": {},
   "outputs": [
    {
     "name": "stdout",
     "output_type": "stream",
     "text": [
      "400/400 [==============================] - 0s 170us/sample - loss: 0.3553 - acc: 0.8600\n"
     ]
    },
    {
     "data": {
      "text/plain": [
       "[0.3553113055229187, 0.86]"
      ]
     },
     "execution_count": 76,
     "metadata": {},
     "output_type": "execute_result"
    }
   ],
   "source": [
    "model_NN.evaluate(X_test, Y_test)"
   ]
  },
  {
   "cell_type": "code",
   "execution_count": null,
   "metadata": {},
   "outputs": [],
   "source": []
  },
  {
   "cell_type": "code",
   "execution_count": null,
   "metadata": {},
   "outputs": [],
   "source": []
  },
  {
   "cell_type": "code",
   "execution_count": null,
   "metadata": {},
   "outputs": [],
   "source": []
  }
 ],
 "metadata": {
  "kernelspec": {
   "display_name": "Python 3",
   "language": "python",
   "name": "python3"
  },
  "language_info": {
   "codemirror_mode": {
    "name": "ipython",
    "version": 3
   },
   "file_extension": ".py",
   "mimetype": "text/x-python",
   "name": "python",
   "nbconvert_exporter": "python",
   "pygments_lexer": "ipython3",
   "version": "3.7.6"
  }
 },
 "nbformat": 4,
 "nbformat_minor": 4
}
